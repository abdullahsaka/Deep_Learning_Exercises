{
  "nbformat": 4,
  "nbformat_minor": 0,
  "metadata": {
    "accelerator": "GPU",
    "colab": {
      "name": "MyAssignment-3.ipynb",
      "provenance": [],
      "collapsed_sections": []
    },
    "kernelspec": {
      "display_name": "Python 3",
      "name": "python3"
    }
  },
  "cells": [
    {
      "cell_type": "code",
      "metadata": {
        "id": "h1_wwXvBkZem"
      },
      "source": [
        "# Import required packages\n",
        "import string\n",
        "import numpy as np\n",
        "import pandas as pd\n",
        "import pickle\n",
        "import matplotlib.pyplot as plt\n",
        "\n",
        "from __future__ import unicode_literals, print_function, division\n",
        "from io import open\n",
        "import unicodedata\n",
        "import string\n",
        "import re\n",
        "import random\n",
        "\n",
        "import torch\n",
        "from torchtext import data\n",
        "from torchtext import datasets\n",
        "import torch.nn as nn\n",
        "from torch import optim\n",
        "import torch.nn.functional as F\n",
        "\n",
        "from keras.preprocessing.text import Tokenizer\n",
        "from keras.preprocessing.sequence import pad_sequences\n",
        "from keras.utils import to_categorical"
      ],
      "execution_count": null,
      "outputs": []
    },
    {
      "cell_type": "markdown",
      "metadata": {
        "id": "ipa2uL7TThko"
      },
      "source": [
        "## **QUESTION 1**"
      ]
    },
    {
      "cell_type": "markdown",
      "metadata": {
        "id": "Vk4f8_34NWHC"
      },
      "source": [
        "**PART A: Build a Markov (n-gram) language model**"
      ]
    },
    {
      "cell_type": "markdown",
      "metadata": {
        "id": "LCZtrMCTOc8k"
      },
      "source": [
        "We built a markov model (n gram=trigram) model. Torch package was used to extract the IMDB dataset and the function generates trigrams is passed to the preprocessing argument in the data. 'Field' function helps splitting each review into trigrams and 'freqs' function is used to get the count of each trigram. This data can be used to calculate probabilties and predictions are made my sampling these probabilities."
      ]
    },
    {
      "cell_type": "code",
      "metadata": {
        "id": "6DdlxKfANa8o"
      },
      "source": [
        "# split each review into tokens with 3-gram\n",
        "def create_trigram(x):\n",
        "    res = []\n",
        "    n_grams = list(zip(*[x[i:] for i in range(3)]))\n",
        "    for n_gram in n_grams:\n",
        "        res.append(' '.join(n_gram))\n",
        "    return res"
      ],
      "execution_count": null,
      "outputs": []
    },
    {
      "cell_type": "code",
      "metadata": {
        "id": "ZOaZQaBYNlet",
        "colab": {
          "base_uri": "https://localhost:8080/",
          "height": 105
        },
        "outputId": "0fa06b42-05d5-451d-ac96-cf0e1be129b3"
      },
      "source": [
        "SEED = 7\n",
        "\n",
        "torch.manual_seed(SEED)\n",
        "torch.cuda.manual_seed(SEED)\n",
        "torch.backends.cudnn.deterministic = True\n",
        "\n",
        "# Load IMDB datasets\n",
        "TEXT = data.Field(tokenize='spacy',preprocessing=create_trigram) # tokenize reviews based on 3-gram model\n",
        "LABEL = data.LabelField(dtype=torch.float)\n",
        "train_data, test_data = datasets.IMDB.splits(TEXT,LABEL)\n",
        "print(vars(train_data.examples[0]))\n",
        "\n",
        "# Split data into train and test data at the ratio of 80:20\n",
        "train_data, valid_data = train_data.split(random_state=random.seed(SEED),split_ratio=0.8)\n",
        "TEXT.build_vocab(train_data) # create a dictionary from train data\n",
        "dictionary = dict(TEXT.vocab.freqs) # calculate frequency of trigrams\n",
        "len(dictionary) # of components in dictionary"
      ],
      "execution_count": null,
      "outputs": [
        {
          "output_type": "stream",
          "text": [
            "\raclImdb_v1.tar.gz:   0%|          | 0.00/84.1M [00:00<?, ?B/s]"
          ],
          "name": "stderr"
        },
        {
          "output_type": "stream",
          "text": [
            "downloading aclImdb_v1.tar.gz\n"
          ],
          "name": "stdout"
        },
        {
          "output_type": "stream",
          "text": [
            "aclImdb_v1.tar.gz: 100%|██████████| 84.1M/84.1M [00:09<00:00, 9.31MB/s]\n"
          ],
          "name": "stderr"
        },
        {
          "output_type": "stream",
          "text": [
            "{'text': ['The year 2005', 'year 2005 saw', '2005 saw no', 'saw no fewer', 'no fewer than', 'fewer than 3', 'than 3 filmed', '3 filmed productions', 'filmed productions of', 'productions of H.', 'of H. G.', 'H. G. Wells', \"G. Wells '\", \"Wells ' great\", \"' great novel\", 'great novel ,', 'novel , \"', ', \" War', '\" War of', 'War of the', 'of the Worlds', 'the Worlds \"', 'Worlds \" .', '\" . This', '. This is', 'This is perhaps', 'is perhaps the', 'perhaps the least', 'the least well', 'least well -', 'well - known', '- known and', 'known and very', 'and very probably', 'very probably the', 'probably the best', 'the best of', 'best of them', 'of them .', 'them . No', '. No other', 'No other version', 'other version of', 'version of WotW', 'of WotW has', 'WotW has ever', 'has ever attempted', 'ever attempted not', 'attempted not only', 'not only to', 'only to present', 'to present the', 'present the story', 'the story very', 'story very much', 'very much as', 'much as Wells', 'as Wells wrote', 'Wells wrote it', 'wrote it ,', 'it , but', ', but also', 'but also to', 'also to create', 'to create the', 'create the atmosphere', 'the atmosphere of', 'atmosphere of the', 'of the time', 'the time in', 'time in which', 'in which it', 'which it was', 'it was supposed', 'was supposed to', 'supposed to take', 'to take place', 'take place :', 'place : the', ': the last', 'the last year', 'last year of', 'year of the', 'of the 19th', 'the 19th Century', '19th Century ,', 'Century , 1900', ', 1900 \\x85 ', '1900 \\x85  using', '\\x85  using Wells', \"using Wells '\", \"Wells ' original\", \"' original setting\", 'original setting ,', 'setting , in', ', in and', 'in and near', 'and near Woking', 'near Woking ,', 'Woking , England.<br', ', England.<br /><br', 'England.<br /><br />IMDb', '/><br />IMDb seems', '/>IMDb seems unfriendly', 'seems unfriendly to', 'unfriendly to what', 'to what they', 'what they regard', 'they regard as', 'regard as \"', 'as \" spoilers', '\" spoilers \"', 'spoilers \" .', '\" . That', '. That might', 'That might apply', 'might apply with', 'apply with some', 'with some films', 'some films ,', 'films , where', ', where the', 'where the ending', 'the ending might', 'ending might actually', 'might actually be', 'actually be a', 'be a surprise', 'a surprise ,', 'surprise , but', ', but with', 'but with regard', 'with regard to', 'regard to one', 'to one of', 'one of the', 'of the most', 'the most famous', 'most famous novels', 'famous novels in', 'novels in the', 'in the world', 'the world ,', 'world , it', ', it seems', 'it seems positively', 'seems positively silly', 'positively silly .', 'silly . I', '. I have', 'I have no', 'have no sympathy', 'no sympathy for', 'sympathy for people', 'for people who', 'people who have', 'who have neglected', 'have neglected to', 'neglected to read', 'to read one', 'read one of', 'one of the', 'of the seminal', 'the seminal works', 'seminal works in', 'works in English', 'in English literature', 'English literature ,', 'literature , so', ', so let', \"so let 's\", \"let 's get\", \"'s get right\", 'get right to', 'right to the', 'to the chase', 'the chase .', 'chase . The', '. The aliens', 'The aliens are', 'aliens are destroyed', 'are destroyed through', 'destroyed through catching', 'through catching an', 'catching an Earth', 'an Earth disease', 'Earth disease ,', 'disease , against', ', against which', 'against which they', 'which they have', 'they have no', 'have no immunity', 'no immunity .', 'immunity . If', '. If that', \"If that 's\", \"that 's a\", \"'s a spoiler\", 'a spoiler ,', 'spoiler , so', ', so be', 'so be it', 'be it ;', 'it ; after', '; after a', 'after a book', 'a book and', 'book and 3', 'and 3 other', '3 other films', 'other films (', 'films ( including', '( including the', 'including the 1953', 'the 1953 classic', '1953 classic )', 'classic ) ,', ') , you', ', you ought', 'you ought to', 'ought to know', 'to know how', 'know how this', 'how this ends.<br', 'this ends.<br /><br', 'ends.<br /><br />This', '/><br />This film', '/>This film ,', 'film , which', ', which follows', 'which follows Wells', \"follows Wells '\", \"Wells ' plot\", \"' plot in\", 'plot in the', 'in the main', 'the main ,', 'main , is', ', is also', 'is also very', 'also very cleverly', 'very cleverly presented', 'cleverly presented \\x96', 'presented \\x96 in', '\\x96 in a', 'in a way', 'a way that', 'way that might', 'that might put', 'might put many', 'put many viewers', 'many viewers off', 'viewers off due', 'off due to', 'due to their', 'to their ignorance', 'their ignorance of', 'ignorance of late', 'of late 19th', 'late 19th /', '19th / early', '/ early 20th', 'early 20th Century', '20th Century photography', 'Century photography .', 'photography . Although', '. Although filmed', 'Although filmed in', 'filmed in a', 'in a widescreen', 'a widescreen aspect', 'widescreen aspect ,', 'aspect , the', ', the film', 'the film goes', 'film goes to', 'goes to some', 'to some lengths', 'some lengths to', 'lengths to give', 'to give an', 'give an impression', 'an impression of', 'impression of contemporaneity', 'of contemporaneity .', 'contemporaneity . The', '. The general', 'The general coloration', 'general coloration of', 'coloration of skin', 'of skin and', 'skin and clothes', 'and clothes display', 'clothes display a', 'display a sepia', 'a sepia tint', 'sepia tint often', 'tint often found', 'often found in', 'found in old', 'in old photographs', 'old photographs (', 'photographs ( rather', '( rather than', 'rather than black', 'than black )', 'black ) .', ') . Colors', '. Colors are', 'Colors are often', 'are often reminiscent', 'often reminiscent of', 'reminiscent of hand', 'of hand -', 'hand - tinting', '- tinting .', 'tinting . At', '. At other', 'At other times', 'other times ,', 'times , colors', ', colors are', 'colors are washed', 'are washed out', 'washed out .', 'out . These', '. These variations', 'These variations are', 'variations are typical', 'are typical of', 'typical of early', 'of early films', 'early films ,', 'films , which', ', which did', \"which did n't\", \"did n't use\", \"n't use standardized\", 'use standardized celluloid', 'standardized celluloid stock', 'celluloid stock and', 'stock and therefore', 'and therefore presented', 'therefore presented a', 'presented a good', 'a good many', 'good many changes', 'many changes in', 'changes in print', 'in print quality', 'print quality ,', 'quality , even', ', even going', 'even going from', 'going from black', 'from black /', 'black / white', '/ white to', 'white to sepia', 'to sepia /', 'sepia / white', '/ white to', 'white to blue', 'to blue /', 'blue / white', '/ white to', 'white to reddish', 'to reddish /', 'reddish / white', '/ white and', 'white and so', 'and so on', 'so on \\x96', 'on \\x96 as', '\\x96 as you', \"as you 'll\", \"you 'll see\", \"'ll see on\", 'see on occasion', 'on occasion here', 'occasion here .', 'here . The', '. The special', 'The special effects', 'special effects are', 'effects are deliberately', 'are deliberately retrograde', 'deliberately retrograde ,', 'retrograde , of', ', of a', 'of a sort', 'a sort seen', 'sort seen even', 'seen even as', 'even as late', 'as late as', 'late as the', 'as the 1920s', 'the 1920s \\x96', '1920s \\x96 and', '\\x96 and yet', 'and yet the', 'yet the Martians', 'the Martians and', 'Martians and their', 'and their machines', 'their machines are', 'machines are very', 'are very much', 'very much as', 'much as Wells', 'as Wells described', 'Wells described them', 'described them and', 'them and have', 'and have a', 'have a more', 'a more nearly', 'more nearly realistic', 'nearly realistic \"', 'realistic \" feel', '\" feel \"', 'feel \" .', '\" . Some', '. Some of', 'Some of effects', 'of effects are', 'effects are really', 'are really awkward', 'really awkward \\x96', 'awkward \\x96 such', '\\x96 such as', 'such as the', 'as the destruction', 'the destruction of', 'destruction of Big', 'of Big Ben', 'Big Ben .', 'Ben . The', '. The acting', 'The acting is', 'acting is often', 'is often more', 'often more in', 'more in the', 'in the style', 'the style of', 'style of that', 'of that period', 'that period than', 'period than ours', 'than ours .', 'ours . Some', '. Some aspects', 'Some aspects of', 'aspects of Victorian', 'of Victorian dress', 'Victorian dress may', 'dress may appear', 'may appear odd', 'appear odd ,', 'odd , particularly', ', particularly the', 'particularly the use', 'the use of', 'use of pomade', 'of pomade or', 'pomade or brilliantine', 'or brilliantine on', 'brilliantine on head', 'on head and', 'head and facial', 'and facial hair.<br', 'facial hair.<br /><br', 'hair.<br /><br />This', '/><br />This film', '/>This film is', 'film is the', 'is the only', 'the only one', 'only one that', 'one that follows', 'that follows with', 'follows with some', 'with some closeness', 'some closeness Wells', \"closeness Wells '\", \"Wells ' original\", \"' original narrative\", 'original narrative \\x96', 'narrative \\x96 as', '\\x96 as has', 'as has been', 'has been noted', 'been noted .', 'noted . Viewers', '. Viewers may', 'Viewers may find', 'may find it', 'find it informative', 'it informative to', 'informative to note', 'to note plot', 'note plot details', 'plot details that', 'details that appear', 'that appear here', 'appear here that', 'here that are', 'that are occasionally', 'are occasionally retained', 'occasionally retained in', 'retained in other', 'in other versions', 'other versions of', 'versions of the', 'of the story', 'the story .', 'story . Wells', \". Wells '\", \"Wells ' description\", \"' description of\", 'description of the', 'of the Martians', 'the Martians \\x96', 'Martians \\x96 a', '\\x96 a giant', 'a giant head', 'giant head mounted', 'head mounted on', 'mounted on numerous', 'on numerous tentacles', 'numerous tentacles \\x96', 'tentacles \\x96 is', '\\x96 is effectively', 'is effectively portrayed', 'effectively portrayed .', 'portrayed . When', '. When the', 'When the Martian', 'the Martian machines', 'Martian machines appear', 'machines appear ,', 'appear , about', ', about an', 'about an hour', 'an hour into', 'hour into the', 'into the film', 'the film ,', 'film , they', ', they too', 'they too give', 'too give a', 'give a good', 'a good impression', 'good impression of', 'impression of how', 'of how Wells', 'how Wells described', 'Wells described them', 'described them .', 'them . Both', '. Both Wells', 'Both Wells and', 'Wells and this', 'and this film', 'this film do', 'film do an', 'do an excellent', 'an excellent job', 'excellent job of', 'job of portraying', 'of portraying the', 'portraying the progress', 'the progress of', 'progress of the', 'of the Martians', 'the Martians from', 'Martians from the', 'from the limited', 'the limited perspective', 'limited perspective (', 'perspective ( primarily', '( primarily )', 'primarily ) of', ') of rural', 'of rural England', 'rural England \\x96', 'England \\x96 plus', '\\x96 plus a', 'plus a few', 'a few scenes', 'few scenes in', 'scenes in London', 'in London (', 'London ( involving', '( involving the', 'involving the Narrator', \"the Narrator 's\", \"Narrator 's brother\", \"'s brother )\", 'brother ) .', ') . The', '. The director', 'The director is', 'director is unable', 'is unable to', 'unable to resist', 'to resist showing', 'resist showing the', 'showing the destruction', 'the destruction of', 'destruction of a', 'of a major', 'a major landmark', 'major landmark (', 'landmark ( Big', '( Big Ben', 'Big Ben )', 'Ben ) ,', ') , but', ', but at', 'but at least', 'at least does', \"least does n't\", \"does n't dwell\", \"n't dwell unduly\", 'dwell unduly on', 'unduly on the', 'on the devastation', 'the devastation of', 'devastation of London.<br', 'of London.<br /><br', 'London.<br /><br />The', '/><br />The victory', '/>The victory of', 'victory of the', 'of the Martians', 'the Martians is', 'Martians is hardly', 'is hardly a', 'hardly a surprise', 'a surprise ,', 'surprise , despite', ', despite the', 'despite the destruction', 'the destruction by', 'destruction by cannon', 'by cannon of', 'cannon of some', 'of some of', 'some of their', 'of their machines', 'their machines .', 'machines . The', '. The Narrator', 'The Narrator ,', 'Narrator , traveling', ', traveling about', 'traveling about to', 'about to seek', 'to seek escape', 'seek escape ,', 'escape , sees', ', sees much', 'sees much of', 'much of what', 'of what Wells', 'what Wells terms', 'Wells terms \"', 'terms \" the', '\" the rout', 'the rout of', 'rout of Mankind', 'of Mankind \"', 'Mankind \" .', '\" . He', '. He encounters', 'He encounters a', 'encounters a curate', 'a curate endowed', 'curate endowed with', 'endowed with the', 'with the Victorian', 'the Victorian affliction', 'Victorian affliction of', 'affliction of a', 'of a much', 'a much too', 'much too precious', 'too precious and', 'precious and nervous', 'and nervous personality', 'nervous personality .', 'personality . They', '. They eventually', 'They eventually find', 'eventually find themselves', 'find themselves on', 'themselves on the', 'on the very', 'the very edge', 'very edge of', 'edge of a', 'of a Martian', 'a Martian nest', 'Martian nest ,', 'nest , where', ', where they', 'where they discover', 'they discover an', 'discover an awful', 'an awful fact', 'awful fact :', 'fact : the', ': the Martians', 'the Martians are', 'Martians are shown', 'are shown to', 'shown to be', 'to be vampires', 'be vampires who', 'vampires who consume', 'who consume their', 'consume their prey', 'their prey alive', 'prey alive in', 'alive in a', 'in a very', 'a very effective', 'very effective scene', 'effective scene .', 'scene . Wells', '. Wells adds', 'Wells adds that', 'adds that after', 'that after eating', 'after eating they', 'eating they set', 'they set up', 'set up \"', 'up \" a', '\" a prolonged', 'a prolonged and', 'prolonged and cheerful', 'and cheerful hooting', 'cheerful hooting \"', 'hooting \" .', '\" . The', '. The Narrator', 'The Narrator finally', 'Narrator finally is', 'finally is obliged', 'is obliged to', 'obliged to beat', 'to beat senseless', 'beat senseless the', 'senseless the increasingly', 'the increasingly hysterical', 'increasingly hysterical curate', 'hysterical curate \\x96', 'curate \\x96 who', '\\x96 who revives', 'who revives just', 'revives just as', 'just as the', 'as the Martians', 'the Martians drag', 'Martians drag him', 'drag him off', 'him off to', 'off to the', 'to the larder', 'the larder (', 'larder ( cheers', '( cheers from', 'cheers from the', 'from the gallery', 'the gallery ;', 'gallery ; British', '; British curates', 'British curates are', 'curates are so', 'are so often', 'so often utterly', 'often utterly insufferable).<br', 'utterly insufferable).<br /><br', 'insufferable).<br /><br />This', '/><br />This film', '/>This film lasts', 'film lasts almost', 'lasts almost 3', 'almost 3 hours', '3 hours ,', 'hours , going', ', going through', 'going through Wells', \"through Wells '\", \"Wells ' story\", \"' story in\", 'story in welcome', 'in welcome detail', 'welcome detail .', 'detail . It', \". It 's\", \"It 's about\", \"'s about time\", 'about time the', 'time the author', 'the author got', 'author got his', 'got his due', 'his due \\x96', 'due \\x96 in', '\\x96 in a', 'in a compelling', 'a compelling presentation', 'compelling presentation that', 'presentation that builds', 'that builds in', 'builds in dramatic', 'in dramatic impact', 'dramatic impact .', 'impact . A', '. A word', 'A word about', 'word about the', 'about the acting', 'the acting :', 'acting : Do', \": Do n't\", \"Do n't expect\", \"n't expect award\", 'expect award -', 'award - winning', '- winning performances', 'winning performances .', 'performances . They', \". They 're\", \"They 're not\", \"'re not bad\", 'not bad ,', 'bad , however', ', however ,', 'however , the', ', the actors', 'the actors are', 'actors are earnest', 'are earnest and', 'earnest and they', 'and they grow', 'they grow on', 'grow on you', 'on you .', 'you . Most', '. Most of', 'Most of them', 'of them ,', 'them , however', ', however ,', 'however , have', ', have had', 'have had very', 'had very abbreviated', 'very abbreviated film', 'abbreviated film careers', 'film careers ,', 'careers , often', ', often only', 'often only in', 'only in this', 'in this film', 'this film .', 'film . The', '. The Narrator', 'The Narrator is', 'Narrator is played', 'is played by', 'played by hunky', 'by hunky Anthony', 'hunky Anthony Piana', 'Anthony Piana ,', 'Piana , in', ', in his', 'in his 2nd', 'his 2nd film', '2nd film .', 'film . The', '. The Curate', 'The Curate is', 'Curate is John', 'is John Kaufman', 'John Kaufman \\x96', 'Kaufman \\x96 also', '\\x96 also in', 'also in his', 'in his 2nd', 'his 2nd film', '2nd film as', 'film as an', 'as an actor', 'an actor but', 'actor but who', 'but who has', 'who has had', 'has had more', 'had more experience', 'more experience directing', 'experience directing .', 'directing . The', '. The Brother', 'The Brother (', 'Brother ( \"', '( \" Henderson', '\" Henderson \"', 'Henderson \" )', '\" ) is', ') is played', 'is played with', 'played with some', 'with some conviction', 'some conviction by', 'conviction by W.', 'by W. Bernard', 'W. Bernard Bauman', 'Bernard Bauman in', 'Bauman in his', 'in his first', 'his first film', 'first film .', 'film . The', '. The Artilleryman', 'The Artilleryman ,', 'Artilleryman , the', ', the only', 'the only other', 'only other sizable', 'other sizable part', 'sizable part ,', 'part , is', ', is played', 'is played by', 'played by James', 'by James Lathrop', 'James Lathrop in', 'Lathrop in his', 'in his first', 'his first film.<br', 'first film.<br /><br', 'film.<br /><br />This', '/><br />This is', '/>This is overall', 'is overall a', 'overall a splendid', 'a splendid film', 'splendid film ,', 'film , portraying', ', portraying for', 'portraying for the', 'for the first', 'the first time', 'first time the', 'time the War', 'the War of', 'War of the', 'of the Worlds', 'the Worlds as', 'Worlds as Wells', 'as Wells wrote', 'Wells wrote it', 'wrote it .', 'it . Despite', '. Despite its', 'Despite its slight', 'its slight defects', 'slight defects ,', 'defects , it', ', it is', 'it is far', 'is far and', 'far and away', 'and away better', 'away better than', 'better than any', 'than any of', 'any of its', 'of its hyped', 'its hyped -', 'hyped - up', '- up competitors', 'up competitors .', 'competitors . If', '. If you', 'If you want', 'you want to', 'want to see', 'to see H.', 'see H. G.', 'H. G. Wells', \"G. Wells '\", \"Wells ' War\", \"' War of\", 'War of the', 'of the Worlds', 'the Worlds \\x96', 'Worlds \\x96 and', '\\x96 and not', 'and not some', 'not some wholly', 'some wholly distorted', 'wholly distorted version', 'distorted version of', 'version of it', 'of it \\x96', 'it \\x96 see', '\\x96 see this', 'see this film', 'this film !'], 'label': 'pos'}\n"
          ],
          "name": "stdout"
        },
        {
          "output_type": "execute_result",
          "data": {
            "text/plain": [
              "3201317"
            ]
          },
          "metadata": {
            "tags": []
          },
          "execution_count": 5
        }
      ]
    },
    {
      "cell_type": "code",
      "metadata": {
        "id": "9J8IWeKMqYJA",
        "colab": {
          "base_uri": "https://localhost:8080/",
          "height": 34
        },
        "outputId": "1236b8d7-4976-4323-d026-cc301758d5f6"
      },
      "source": [
        "dictionary['the three leads'] # just an example"
      ],
      "execution_count": null,
      "outputs": [
        {
          "output_type": "execute_result",
          "data": {
            "text/plain": [
              "8"
            ]
          },
          "metadata": {
            "tags": []
          },
          "execution_count": 6
        }
      ]
    },
    {
      "cell_type": "code",
      "metadata": {
        "id": "WCTNoiAmN-ND"
      },
      "source": [
        "mrkv = pd.DataFrame.from_dict(dictionary,orient=\"index\") # convert dictionary into pandas dataframe\n",
        "mrkv = mrkv.reset_index() # remove index\n",
        "\n",
        "mrkv.columns = ['trigrams','count'] # rename columns\n",
        "mrkv['bigrams'] =mrkv.trigrams.apply(lambda x: \" \".join(x.split(' ')[:2])) # create bigrams\n",
        "mrkv['output'] =mrkv.trigrams.apply(lambda x: x.split(' ')[2])\n",
        "inp_cnt = pd.DataFrame(mrkv.groupby(\"bigrams\",as_index=False)[\"count\"].sum()) # count frequency of bigrams model"
      ],
      "execution_count": null,
      "outputs": []
    },
    {
      "cell_type": "code",
      "metadata": {
        "id": "0JkMUXjDWt2q",
        "colab": {
          "base_uri": "https://localhost:8080/",
          "height": 419
        },
        "outputId": "97ee018d-e642-40ec-b734-e248b55e8f78"
      },
      "source": [
        "inp_cnt"
      ],
      "execution_count": null,
      "outputs": [
        {
          "output_type": "execute_result",
          "data": {
            "text/html": [
              "<div>\n",
              "<style scoped>\n",
              "    .dataframe tbody tr th:only-of-type {\n",
              "        vertical-align: middle;\n",
              "    }\n",
              "\n",
              "    .dataframe tbody tr th {\n",
              "        vertical-align: top;\n",
              "    }\n",
              "\n",
              "    .dataframe thead th {\n",
              "        text-align: right;\n",
              "    }\n",
              "</style>\n",
              "<table border=\"1\" class=\"dataframe\">\n",
              "  <thead>\n",
              "    <tr style=\"text-align: right;\">\n",
              "      <th></th>\n",
              "      <th>bigrams</th>\n",
              "      <th>count</th>\n",
              "    </tr>\n",
              "  </thead>\n",
              "  <tbody>\n",
              "    <tr>\n",
              "      <th>0</th>\n",
              "      <td>\b\b\b\bA Turkish</td>\n",
              "      <td>1</td>\n",
              "    </tr>\n",
              "    <tr>\n",
              "      <th>1</th>\n",
              "      <td>\\t \"</td>\n",
              "      <td>2</td>\n",
              "    </tr>\n",
              "    <tr>\n",
              "      <th>2</th>\n",
              "      <td>\\t Alex</td>\n",
              "      <td>1</td>\n",
              "    </tr>\n",
              "    <tr>\n",
              "      <th>3</th>\n",
              "      <td>\\t As</td>\n",
              "      <td>3</td>\n",
              "    </tr>\n",
              "    <tr>\n",
              "      <th>4</th>\n",
              "      <td>\\t At</td>\n",
              "      <td>1</td>\n",
              "    </tr>\n",
              "    <tr>\n",
              "      <th>...</th>\n",
              "      <td>...</td>\n",
              "      <td>...</td>\n",
              "    </tr>\n",
              "    <tr>\n",
              "      <th>1218998</th>\n",
              "      <td>… &lt;</td>\n",
              "      <td>1</td>\n",
              "    </tr>\n",
              "    <tr>\n",
              "      <th>1218999</th>\n",
              "      <td>… although</td>\n",
              "      <td>1</td>\n",
              "    </tr>\n",
              "    <tr>\n",
              "      <th>1219000</th>\n",
              "      <td>… but</td>\n",
              "      <td>2</td>\n",
              "    </tr>\n",
              "    <tr>\n",
              "      <th>1219001</th>\n",
              "      <td>₤100 per</td>\n",
              "      <td>1</td>\n",
              "    </tr>\n",
              "    <tr>\n",
              "      <th>1219002</th>\n",
              "      <td> \"</td>\n",
              "      <td>2</td>\n",
              "    </tr>\n",
              "  </tbody>\n",
              "</table>\n",
              "<p>1219003 rows × 2 columns</p>\n",
              "</div>"
            ],
            "text/plain": [
              "               bigrams  count\n",
              "0        \b\b\b\bA Turkish      1\n",
              "1                 \\t \"      2\n",
              "2              \\t Alex      1\n",
              "3                \\t As      3\n",
              "4                \\t At      1\n",
              "...                ...    ...\n",
              "1218998            … <      1\n",
              "1218999     … although      1\n",
              "1219000          … but      2\n",
              "1219001       ₤100 per      1\n",
              "1219002             \"      2\n",
              "\n",
              "[1219003 rows x 2 columns]"
            ]
          },
          "metadata": {
            "tags": []
          },
          "execution_count": 8
        }
      ]
    },
    {
      "cell_type": "code",
      "metadata": {
        "id": "AHjoL-ZXrOWV",
        "colab": {
          "base_uri": "https://localhost:8080/",
          "height": 204
        },
        "outputId": "821af2fb-84f1-47e4-839f-1d54a6b60e12"
      },
      "source": [
        "mrkv.head() # final dataframe for markov model"
      ],
      "execution_count": null,
      "outputs": [
        {
          "output_type": "execute_result",
          "data": {
            "text/html": [
              "<div>\n",
              "<style scoped>\n",
              "    .dataframe tbody tr th:only-of-type {\n",
              "        vertical-align: middle;\n",
              "    }\n",
              "\n",
              "    .dataframe tbody tr th {\n",
              "        vertical-align: top;\n",
              "    }\n",
              "\n",
              "    .dataframe thead th {\n",
              "        text-align: right;\n",
              "    }\n",
              "</style>\n",
              "<table border=\"1\" class=\"dataframe\">\n",
              "  <thead>\n",
              "    <tr style=\"text-align: right;\">\n",
              "      <th></th>\n",
              "      <th>trigrams</th>\n",
              "      <th>count</th>\n",
              "      <th>bigrams</th>\n",
              "      <th>output</th>\n",
              "    </tr>\n",
              "  </thead>\n",
              "  <tbody>\n",
              "    <tr>\n",
              "      <th>0</th>\n",
              "      <td>OK , I</td>\n",
              "      <td>31</td>\n",
              "      <td>OK ,</td>\n",
              "      <td>I</td>\n",
              "    </tr>\n",
              "    <tr>\n",
              "      <th>1</th>\n",
              "      <td>, I did</td>\n",
              "      <td>208</td>\n",
              "      <td>, I</td>\n",
              "      <td>did</td>\n",
              "    </tr>\n",
              "    <tr>\n",
              "      <th>2</th>\n",
              "      <td>I did n't</td>\n",
              "      <td>883</td>\n",
              "      <td>I did</td>\n",
              "      <td>n't</td>\n",
              "    </tr>\n",
              "    <tr>\n",
              "      <th>3</th>\n",
              "      <td>did n't know</td>\n",
              "      <td>179</td>\n",
              "      <td>did n't</td>\n",
              "      <td>know</td>\n",
              "    </tr>\n",
              "    <tr>\n",
              "      <th>4</th>\n",
              "      <td>n't know what</td>\n",
              "      <td>211</td>\n",
              "      <td>n't know</td>\n",
              "      <td>what</td>\n",
              "    </tr>\n",
              "  </tbody>\n",
              "</table>\n",
              "</div>"
            ],
            "text/plain": [
              "        trigrams  count   bigrams output\n",
              "0         OK , I     31      OK ,      I\n",
              "1        , I did    208       , I    did\n",
              "2      I did n't    883     I did    n't\n",
              "3   did n't know    179   did n't   know\n",
              "4  n't know what    211  n't know   what"
            ]
          },
          "metadata": {
            "tags": []
          },
          "execution_count": 9
        }
      ]
    },
    {
      "cell_type": "markdown",
      "metadata": {
        "id": "DVAueDE2OpDh"
      },
      "source": [
        "**PART B: Change the output appropriately in ‘Simple Sentiment Analysis.ipynb’ to build an LSTM based language model. Plot the training performance as a function of epochs/iterations.**"
      ]
    },
    {
      "cell_type": "code",
      "metadata": {
        "id": "DQYCYF09OqU-"
      },
      "source": [
        "SEED = 7\n",
        "# use seed for reproducibility\n",
        "\n",
        "torch.manual_seed(SEED)\n",
        "torch.cuda.manual_seed(SEED)\n",
        "torch.backends.cudnn.deterministic = True\n",
        "\n",
        "TEXT = data.Field(tokenize='spacy') # tokenize sentences\n",
        "LABEL = data.LabelField(dtype=torch.float)"
      ],
      "execution_count": null,
      "outputs": []
    },
    {
      "cell_type": "code",
      "metadata": {
        "id": "SQ0WbdlTjx-F"
      },
      "source": [
        "from torchtext import datasets\n",
        "train_data, test_data = datasets.IMDB.splits(TEXT, LABEL) # import dataset"
      ],
      "execution_count": null,
      "outputs": []
    },
    {
      "cell_type": "code",
      "metadata": {
        "id": "5x39MyblMdah",
        "colab": {
          "base_uri": "https://localhost:8080/",
          "height": 51
        },
        "outputId": "0885afea-6364-4655-f78b-d957dc7a0e86"
      },
      "source": [
        "# check data size of train and test data\n",
        "print(f'Number of training examples in data: {len(train_data)}')\n",
        "print(f'Number of testing examples in data: {len(test_data)}')"
      ],
      "execution_count": null,
      "outputs": [
        {
          "output_type": "stream",
          "text": [
            "Number of training examples in data: 25000\n",
            "Number of testing examples in data: 25000\n"
          ],
          "name": "stdout"
        }
      ]
    },
    {
      "cell_type": "code",
      "metadata": {
        "id": "AFTMcdcsMieC",
        "colab": {
          "base_uri": "https://localhost:8080/",
          "height": 54
        },
        "outputId": "fb765b34-d4bb-4c35-8100-43a551cf5cc6"
      },
      "source": [
        "print(vars(train_data.examples[0])) # observe one example \n",
        "\n",
        "# split data into train and test data\n",
        "train_data, valid_data = train_data.split(random_state=random.seed(SEED),split_ratio=0.32) "
      ],
      "execution_count": null,
      "outputs": [
        {
          "output_type": "stream",
          "text": [
            "{'text': ['The', 'year', '2005', 'saw', 'no', 'fewer', 'than', '3', 'filmed', 'productions', 'of', 'H.', 'G.', 'Wells', \"'\", 'great', 'novel', ',', '\"', 'War', 'of', 'the', 'Worlds', '\"', '.', 'This', 'is', 'perhaps', 'the', 'least', 'well', '-', 'known', 'and', 'very', 'probably', 'the', 'best', 'of', 'them', '.', 'No', 'other', 'version', 'of', 'WotW', 'has', 'ever', 'attempted', 'not', 'only', 'to', 'present', 'the', 'story', 'very', 'much', 'as', 'Wells', 'wrote', 'it', ',', 'but', 'also', 'to', 'create', 'the', 'atmosphere', 'of', 'the', 'time', 'in', 'which', 'it', 'was', 'supposed', 'to', 'take', 'place', ':', 'the', 'last', 'year', 'of', 'the', '19th', 'Century', ',', '1900', '\\x85 ', 'using', 'Wells', \"'\", 'original', 'setting', ',', 'in', 'and', 'near', 'Woking', ',', 'England.<br', '/><br', '/>IMDb', 'seems', 'unfriendly', 'to', 'what', 'they', 'regard', 'as', '\"', 'spoilers', '\"', '.', 'That', 'might', 'apply', 'with', 'some', 'films', ',', 'where', 'the', 'ending', 'might', 'actually', 'be', 'a', 'surprise', ',', 'but', 'with', 'regard', 'to', 'one', 'of', 'the', 'most', 'famous', 'novels', 'in', 'the', 'world', ',', 'it', 'seems', 'positively', 'silly', '.', 'I', 'have', 'no', 'sympathy', 'for', 'people', 'who', 'have', 'neglected', 'to', 'read', 'one', 'of', 'the', 'seminal', 'works', 'in', 'English', 'literature', ',', 'so', 'let', \"'s\", 'get', 'right', 'to', 'the', 'chase', '.', 'The', 'aliens', 'are', 'destroyed', 'through', 'catching', 'an', 'Earth', 'disease', ',', 'against', 'which', 'they', 'have', 'no', 'immunity', '.', 'If', 'that', \"'s\", 'a', 'spoiler', ',', 'so', 'be', 'it', ';', 'after', 'a', 'book', 'and', '3', 'other', 'films', '(', 'including', 'the', '1953', 'classic', ')', ',', 'you', 'ought', 'to', 'know', 'how', 'this', 'ends.<br', '/><br', '/>This', 'film', ',', 'which', 'follows', 'Wells', \"'\", 'plot', 'in', 'the', 'main', ',', 'is', 'also', 'very', 'cleverly', 'presented', '\\x96', 'in', 'a', 'way', 'that', 'might', 'put', 'many', 'viewers', 'off', 'due', 'to', 'their', 'ignorance', 'of', 'late', '19th', '/', 'early', '20th', 'Century', 'photography', '.', 'Although', 'filmed', 'in', 'a', 'widescreen', 'aspect', ',', 'the', 'film', 'goes', 'to', 'some', 'lengths', 'to', 'give', 'an', 'impression', 'of', 'contemporaneity', '.', 'The', 'general', 'coloration', 'of', 'skin', 'and', 'clothes', 'display', 'a', 'sepia', 'tint', 'often', 'found', 'in', 'old', 'photographs', '(', 'rather', 'than', 'black', ')', '.', 'Colors', 'are', 'often', 'reminiscent', 'of', 'hand', '-', 'tinting', '.', 'At', 'other', 'times', ',', 'colors', 'are', 'washed', 'out', '.', 'These', 'variations', 'are', 'typical', 'of', 'early', 'films', ',', 'which', 'did', \"n't\", 'use', 'standardized', 'celluloid', 'stock', 'and', 'therefore', 'presented', 'a', 'good', 'many', 'changes', 'in', 'print', 'quality', ',', 'even', 'going', 'from', 'black', '/', 'white', 'to', 'sepia', '/', 'white', 'to', 'blue', '/', 'white', 'to', 'reddish', '/', 'white', 'and', 'so', 'on', '\\x96', 'as', 'you', \"'ll\", 'see', 'on', 'occasion', 'here', '.', 'The', 'special', 'effects', 'are', 'deliberately', 'retrograde', ',', 'of', 'a', 'sort', 'seen', 'even', 'as', 'late', 'as', 'the', '1920s', '\\x96', 'and', 'yet', 'the', 'Martians', 'and', 'their', 'machines', 'are', 'very', 'much', 'as', 'Wells', 'described', 'them', 'and', 'have', 'a', 'more', 'nearly', 'realistic', '\"', 'feel', '\"', '.', 'Some', 'of', 'effects', 'are', 'really', 'awkward', '\\x96', 'such', 'as', 'the', 'destruction', 'of', 'Big', 'Ben', '.', 'The', 'acting', 'is', 'often', 'more', 'in', 'the', 'style', 'of', 'that', 'period', 'than', 'ours', '.', 'Some', 'aspects', 'of', 'Victorian', 'dress', 'may', 'appear', 'odd', ',', 'particularly', 'the', 'use', 'of', 'pomade', 'or', 'brilliantine', 'on', 'head', 'and', 'facial', 'hair.<br', '/><br', '/>This', 'film', 'is', 'the', 'only', 'one', 'that', 'follows', 'with', 'some', 'closeness', 'Wells', \"'\", 'original', 'narrative', '\\x96', 'as', 'has', 'been', 'noted', '.', 'Viewers', 'may', 'find', 'it', 'informative', 'to', 'note', 'plot', 'details', 'that', 'appear', 'here', 'that', 'are', 'occasionally', 'retained', 'in', 'other', 'versions', 'of', 'the', 'story', '.', 'Wells', \"'\", 'description', 'of', 'the', 'Martians', '\\x96', 'a', 'giant', 'head', 'mounted', 'on', 'numerous', 'tentacles', '\\x96', 'is', 'effectively', 'portrayed', '.', 'When', 'the', 'Martian', 'machines', 'appear', ',', 'about', 'an', 'hour', 'into', 'the', 'film', ',', 'they', 'too', 'give', 'a', 'good', 'impression', 'of', 'how', 'Wells', 'described', 'them', '.', 'Both', 'Wells', 'and', 'this', 'film', 'do', 'an', 'excellent', 'job', 'of', 'portraying', 'the', 'progress', 'of', 'the', 'Martians', 'from', 'the', 'limited', 'perspective', '(', 'primarily', ')', 'of', 'rural', 'England', '\\x96', 'plus', 'a', 'few', 'scenes', 'in', 'London', '(', 'involving', 'the', 'Narrator', \"'s\", 'brother', ')', '.', 'The', 'director', 'is', 'unable', 'to', 'resist', 'showing', 'the', 'destruction', 'of', 'a', 'major', 'landmark', '(', 'Big', 'Ben', ')', ',', 'but', 'at', 'least', 'does', \"n't\", 'dwell', 'unduly', 'on', 'the', 'devastation', 'of', 'London.<br', '/><br', '/>The', 'victory', 'of', 'the', 'Martians', 'is', 'hardly', 'a', 'surprise', ',', 'despite', 'the', 'destruction', 'by', 'cannon', 'of', 'some', 'of', 'their', 'machines', '.', 'The', 'Narrator', ',', 'traveling', 'about', 'to', 'seek', 'escape', ',', 'sees', 'much', 'of', 'what', 'Wells', 'terms', '\"', 'the', 'rout', 'of', 'Mankind', '\"', '.', 'He', 'encounters', 'a', 'curate', 'endowed', 'with', 'the', 'Victorian', 'affliction', 'of', 'a', 'much', 'too', 'precious', 'and', 'nervous', 'personality', '.', 'They', 'eventually', 'find', 'themselves', 'on', 'the', 'very', 'edge', 'of', 'a', 'Martian', 'nest', ',', 'where', 'they', 'discover', 'an', 'awful', 'fact', ':', 'the', 'Martians', 'are', 'shown', 'to', 'be', 'vampires', 'who', 'consume', 'their', 'prey', 'alive', 'in', 'a', 'very', 'effective', 'scene', '.', 'Wells', 'adds', 'that', 'after', 'eating', 'they', 'set', 'up', '\"', 'a', 'prolonged', 'and', 'cheerful', 'hooting', '\"', '.', 'The', 'Narrator', 'finally', 'is', 'obliged', 'to', 'beat', 'senseless', 'the', 'increasingly', 'hysterical', 'curate', '\\x96', 'who', 'revives', 'just', 'as', 'the', 'Martians', 'drag', 'him', 'off', 'to', 'the', 'larder', '(', 'cheers', 'from', 'the', 'gallery', ';', 'British', 'curates', 'are', 'so', 'often', 'utterly', 'insufferable).<br', '/><br', '/>This', 'film', 'lasts', 'almost', '3', 'hours', ',', 'going', 'through', 'Wells', \"'\", 'story', 'in', 'welcome', 'detail', '.', 'It', \"'s\", 'about', 'time', 'the', 'author', 'got', 'his', 'due', '\\x96', 'in', 'a', 'compelling', 'presentation', 'that', 'builds', 'in', 'dramatic', 'impact', '.', 'A', 'word', 'about', 'the', 'acting', ':', 'Do', \"n't\", 'expect', 'award', '-', 'winning', 'performances', '.', 'They', \"'re\", 'not', 'bad', ',', 'however', ',', 'the', 'actors', 'are', 'earnest', 'and', 'they', 'grow', 'on', 'you', '.', 'Most', 'of', 'them', ',', 'however', ',', 'have', 'had', 'very', 'abbreviated', 'film', 'careers', ',', 'often', 'only', 'in', 'this', 'film', '.', 'The', 'Narrator', 'is', 'played', 'by', 'hunky', 'Anthony', 'Piana', ',', 'in', 'his', '2nd', 'film', '.', 'The', 'Curate', 'is', 'John', 'Kaufman', '\\x96', 'also', 'in', 'his', '2nd', 'film', 'as', 'an', 'actor', 'but', 'who', 'has', 'had', 'more', 'experience', 'directing', '.', 'The', 'Brother', '(', '\"', 'Henderson', '\"', ')', 'is', 'played', 'with', 'some', 'conviction', 'by', 'W.', 'Bernard', 'Bauman', 'in', 'his', 'first', 'film', '.', 'The', 'Artilleryman', ',', 'the', 'only', 'other', 'sizable', 'part', ',', 'is', 'played', 'by', 'James', 'Lathrop', 'in', 'his', 'first', 'film.<br', '/><br', '/>This', 'is', 'overall', 'a', 'splendid', 'film', ',', 'portraying', 'for', 'the', 'first', 'time', 'the', 'War', 'of', 'the', 'Worlds', 'as', 'Wells', 'wrote', 'it', '.', 'Despite', 'its', 'slight', 'defects', ',', 'it', 'is', 'far', 'and', 'away', 'better', 'than', 'any', 'of', 'its', 'hyped', '-', 'up', 'competitors', '.', 'If', 'you', 'want', 'to', 'see', 'H.', 'G.', 'Wells', \"'\", 'War', 'of', 'the', 'Worlds', '\\x96', 'and', 'not', 'some', 'wholly', 'distorted', 'version', 'of', 'it', '\\x96', 'see', 'this', 'film', '!'], 'label': 'pos'}\n"
          ],
          "name": "stdout"
        }
      ]
    },
    {
      "cell_type": "code",
      "metadata": {
        "id": "qFAXOmbDMsBf",
        "colab": {
          "base_uri": "https://localhost:8080/",
          "height": 68
        },
        "outputId": "327fc6a2-5a80-431d-9544-e29698052506"
      },
      "source": [
        "print(f'Number of training examples: {len(train_data)}') # 8000\n",
        "print(f'Number of validation examples: {len(valid_data)}') # 17000\n",
        "print(f'Number of testing examples: {len(test_data)}') # 25000"
      ],
      "execution_count": null,
      "outputs": [
        {
          "output_type": "stream",
          "text": [
            "Number of training examples: 8000\n",
            "Number of validation examples: 17000\n",
            "Number of testing examples: 25000\n"
          ],
          "name": "stdout"
        }
      ]
    },
    {
      "cell_type": "code",
      "metadata": {
        "id": "CgmJo2owMuSK"
      },
      "source": [
        "TEXT.build_vocab(train_data, max_size=1500) # build vocabulary\n",
        "LABEL.build_vocab(train_data)"
      ],
      "execution_count": null,
      "outputs": []
    },
    {
      "cell_type": "code",
      "metadata": {
        "id": "6gqX3NwEMwUZ",
        "colab": {
          "base_uri": "https://localhost:8080/",
          "height": 51
        },
        "outputId": "d855be11-44f4-4c93-9781-b9fa01367ee8"
      },
      "source": [
        "print(f\"Unique tokens in TEXT vocabulary: {len(TEXT.vocab)}\")\n",
        "print(f\"Unique tokens in LABEL vocabulary: {len(LABEL.vocab)}\")"
      ],
      "execution_count": null,
      "outputs": [
        {
          "output_type": "stream",
          "text": [
            "Unique tokens in TEXT vocabulary: 1502\n",
            "Unique tokens in LABEL vocabulary: 2\n"
          ],
          "name": "stdout"
        }
      ]
    },
    {
      "cell_type": "code",
      "metadata": {
        "id": "MLVU5iRYMyCZ"
      },
      "source": [
        "BATCH_SIZE = 16 # specify batch size\n",
        "device = torch.device('cuda' if torch.cuda.is_available() else 'cpu')\n",
        "\n",
        "train_iterator, valid_iterator, test_iterator = data.BucketIterator.splits((train_data, valid_data, test_data), batch_size=BATCH_SIZE, device=device)"
      ],
      "execution_count": null,
      "outputs": []
    },
    {
      "cell_type": "code",
      "metadata": {
        "id": "lEA2-n0PM0Jj"
      },
      "source": [
        "class RNN(nn.Module):\n",
        "    def __init__(self, input_dim, embedding_dim,hidden_dim,BATCH_SIZE,output_dim):\n",
        "        super().__init__()\n",
        "        \n",
        "        self.embedding = nn.Embedding(input_dim, embedding_dim)\n",
        "        self.rnn = nn.LSTM(embedding_dim, output_dim)\n",
        "\n",
        "        self.fc = nn.Linear(hidden_dim, output_dim)\n",
        "        \n",
        "    def forward(self, x):        \n",
        "        embedded = self.embedding(x)\n",
        "        output, (hidden,cell) = self.rnn(embedded)\n",
        "        dim = output.size()\n",
        "        output = output.view(-1, output.shape[2])\n",
        "        output1 = F.log_softmax(output,dim=1)\n",
        "        \n",
        "        if BATCH_SIZE==dim[1]:\n",
        "            output1 = output1.view(-1,OUTPUT_DIM,BATCH_SIZE)\n",
        "        else:\n",
        "            output1 = output1.view(dim[1],OUTPUT_DIM,-1)\n",
        "        #output = [sent len, batch size, hid dim]\n",
        "        #hidden = [1, batch size, hid dim]       \n",
        "        return output1"
      ],
      "execution_count": null,
      "outputs": []
    },
    {
      "cell_type": "code",
      "metadata": {
        "id": "rvaG7UmsM2Di"
      },
      "source": [
        "INPUT_DIM = len(TEXT.vocab)\n",
        "EMBEDDING_DIM = 100\n",
        "HIDDEN_DIM = 256\n",
        "OUTPUT_DIM = len(TEXT.vocab)\n",
        "model = RNN(INPUT_DIM, EMBEDDING_DIM,HIDDEN_DIM,BATCH_SIZE,OUTPUT_DIM) # built a RNN model"
      ],
      "execution_count": null,
      "outputs": []
    },
    {
      "cell_type": "code",
      "metadata": {
        "id": "ApgMbv-BM33n"
      },
      "source": [
        "optimizer = optim.SGD(model.parameters(), lr=1e-2) # SGD optimizer\n",
        "criterion = nn.NLLLoss()\n",
        "model = model.to(device)\n",
        "criterion = criterion.to(device)"
      ],
      "execution_count": null,
      "outputs": []
    },
    {
      "cell_type": "code",
      "metadata": {
        "id": "vlkRxF4MM5ni"
      },
      "source": [
        "def train(model, iterator, optimizer, criterion,BATCH_SIZE):\n",
        "    \n",
        "    epoch_loss = 0\n",
        "    epoch_acc = 0\n",
        "    epoch_label_count = 0 \n",
        "    loss=0\n",
        "    model.train()\n",
        "    for batch in iterator:\n",
        "        optimizer.zero_grad()   \n",
        "        predictions = model(batch.text)\n",
        "\n",
        "        dim = predictions.size()\n",
        "        if dim[2] !=BATCH_SIZE:\n",
        "            BATCH_SIZE = dim[2]\n",
        "            \n",
        "        pad = torch.tensor([1]*BATCH_SIZE,device=\"cuda:0\").view(BATCH_SIZE,-1)\n",
        "        _,preds = torch.max(predictions,1)\n",
        "        labels = batch.text.view(-1,BATCH_SIZE)\n",
        "        labels = labels[1:]\n",
        "        pad = torch.tensor([1]*BATCH_SIZE,device=\"cuda:0\").view(-1,BATCH_SIZE)\n",
        "        labels = torch.cat((labels,pad),0)\n",
        "        loss = criterion(predictions,labels)\n",
        "        acc = torch.sum(preds == labels)\n",
        "        loss.backward()\n",
        "        optimizer.step()\n",
        "\n",
        "        epoch_loss += loss.item()\n",
        "        epoch_acc += acc.item()\n",
        "        epoch_label_count+= labels.numel()\n",
        "        \n",
        "    return epoch_loss / len(iterator) , (epoch_acc /epoch_label_count)"
      ],
      "execution_count": null,
      "outputs": []
    },
    {
      "cell_type": "code",
      "metadata": {
        "id": "8jYkY460WIqQ"
      },
      "source": [
        "def evaluate(model, iterator, criterion, BATCH_SIZE):\n",
        "    \n",
        "    epoch_loss = 0\n",
        "    epoch_acc = 0\n",
        "    epoch_label_count = 0 \n",
        "    loss=0\n",
        "    model.train()\n",
        "    for batch in iterator: \n",
        "        predictions = model(batch.text)\n",
        "\n",
        "        dim = predictions.size()\n",
        "        if dim[2] !=BATCH_SIZE:\n",
        "            BATCH_SIZE = dim[2]\n",
        "            \n",
        "        pad = torch.tensor([1]*BATCH_SIZE,device=\"cuda:0\").view(BATCH_SIZE,-1)\n",
        "        _,preds = torch.max(predictions,1)\n",
        "        labels = batch.text.view(-1,BATCH_SIZE)\n",
        "        labels = labels[1:]\n",
        "        pad = torch.tensor([1]*BATCH_SIZE,device=\"cuda:0\").view(-1,BATCH_SIZE)\n",
        "        labels = torch.cat((labels,pad),0)\n",
        "        loss = criterion(predictions,labels)\n",
        "        acc = torch.sum(preds == labels)\n",
        "\n",
        "        epoch_loss += loss.item()\n",
        "        epoch_acc += acc.item()\n",
        "        epoch_label_count+= labels.numel()\n",
        "        \n",
        "    return epoch_loss / len(iterator) , (epoch_acc /epoch_label_count)"
      ],
      "execution_count": null,
      "outputs": []
    },
    {
      "cell_type": "code",
      "metadata": {
        "id": "8fiUwAHfWgKg"
      },
      "source": [
        "import time\n",
        "\n",
        "def epoch_time(start_time, end_time):\n",
        "    elapsed_time = end_time - start_time\n",
        "    elapsed_mins = int(elapsed_time / 60)\n",
        "    elapsed_secs = int(elapsed_time - (elapsed_mins * 60))\n",
        "    return elapsed_mins, elapsed_secs"
      ],
      "execution_count": null,
      "outputs": []
    },
    {
      "cell_type": "code",
      "metadata": {
        "id": "e7bzfpjMM7-m",
        "colab": {
          "base_uri": "https://localhost:8080/",
          "height": 357
        },
        "outputId": "c10866bc-6793-4198-f14d-45f079a50df5"
      },
      "source": [
        "#Train loss and accuracy\n",
        "\n",
        "N_EPOCHS = 10 # specify the number of epochs\n",
        "train_losses = []\n",
        "valid_losses = []\n",
        "\n",
        "best_valid_loss = float('inf')\n",
        "\n",
        "for epoch in range(N_EPOCHS):\n",
        "    start_time = time.time()\n",
        "    \n",
        "    train_loss, train_acc = train(model, train_iterator, optimizer, criterion, BATCH_SIZE)\n",
        "    valid_loss, valid_acc = evaluate(model, valid_iterator, criterion, BATCH_SIZE)\n",
        "    \n",
        "    end_time = time.time()\n",
        "\n",
        "    epoch_mins, epoch_secs = epoch_time(start_time, end_time)\n",
        "\n",
        "    train_losses.append(train_loss)\n",
        "\n",
        "    if valid_loss < best_valid_loss:\n",
        "        best_valid_loss = valid_loss\n",
        "        torch.save(model.state_dict(), 'tut1-model.pt')\n",
        "\n",
        "    print(f'| Epoch: {epoch+1:02} | Train Loss: {train_loss:.3f} | Train Acc: {train_acc*100:.2f}% | Val. Loss: {valid_loss:.3f} | Val. Acc: {valid_acc*100:.2f}% |')\n",
        "\n",
        "    print(f'Best validation loss: {best_valid_loss:.3f}% |')"
      ],
      "execution_count": null,
      "outputs": [
        {
          "output_type": "stream",
          "text": [
            "| Epoch: 01 | Train Loss: 6.974 | Train Acc: 6.95% | Val. Loss: 7.306 | Val. Acc: 0.04% |\n",
            "Best validation loss: 7.306% |\n",
            "| Epoch: 02 | Train Loss: 6.786 | Train Acc: 7.19% | Val. Loss: 7.296 | Val. Acc: 0.04% |\n",
            "Best validation loss: 7.296% |\n",
            "| Epoch: 03 | Train Loss: 6.724 | Train Acc: 7.01% | Val. Loss: 7.282 | Val. Acc: 0.04% |\n",
            "Best validation loss: 7.282% |\n",
            "| Epoch: 04 | Train Loss: 6.642 | Train Acc: 7.15% | Val. Loss: 7.249 | Val. Acc: 0.04% |\n",
            "Best validation loss: 7.249% |\n",
            "| Epoch: 05 | Train Loss: 6.536 | Train Acc: 6.72% | Val. Loss: 7.177 | Val. Acc: 0.04% |\n",
            "Best validation loss: 7.177% |\n",
            "| Epoch: 06 | Train Loss: 6.414 | Train Acc: 6.55% | Val. Loss: 7.097 | Val. Acc: 0.04% |\n",
            "Best validation loss: 7.097% |\n",
            "| Epoch: 07 | Train Loss: 6.308 | Train Acc: 6.54% | Val. Loss: 7.037 | Val. Acc: 0.04% |\n",
            "Best validation loss: 7.037% |\n",
            "| Epoch: 08 | Train Loss: 6.206 | Train Acc: 6.63% | Val. Loss: 7.002 | Val. Acc: 0.04% |\n",
            "Best validation loss: 7.002% |\n",
            "| Epoch: 09 | Train Loss: 6.133 | Train Acc: 6.72% | Val. Loss: 6.984 | Val. Acc: 0.04% |\n",
            "Best validation loss: 6.984% |\n",
            "| Epoch: 10 | Train Loss: 6.105 | Train Acc: 6.57% | Val. Loss: 6.975 | Val. Acc: 0.04% |\n",
            "Best validation loss: 6.975% |\n"
          ],
          "name": "stdout"
        }
      ]
    },
    {
      "cell_type": "code",
      "metadata": {
        "id": "7BqhU79MM_B0",
        "colab": {
          "base_uri": "https://localhost:8080/"
        },
        "outputId": "0503aaa0-6779-4cd8-f1a8-5fcc65f52f4d"
      },
      "source": [
        "import seaborn as sns\n",
        "sns.set()\n",
        "plt.figure(figsize=(10,4))\n",
        "plt.plot(train_losses)\n",
        "plt.title(\"Training Performance by the number of Epochs\")\n",
        "plt.xlabel(\"Epochs\")\n",
        "plt.ylabel(\"Loss\")\n",
        "plt.show()"
      ],
      "execution_count": null,
      "outputs": [
        {
          "output_type": "display_data",
          "data": {
            "image/png": "[encoded data removed]",
            "text/plain": [
              "<Figure size 720x288 with 1 Axes>"
            ]
          },
          "metadata": {
            "tags": []
          }
        }
      ]
    },
    {
      "cell_type": "code",
      "metadata": {
        "id": "i5Z3yoxjWvEG",
        "colab": {
          "base_uri": "https://localhost:8080/"
        },
        "outputId": "0841f6de-73fb-401a-8a8a-4d4a681944be"
      },
      "source": [
        "#Test loss and accuracy\n",
        "\n",
        "model.load_state_dict(torch.load('tut1-model.pt'))\n",
        "\n",
        "test_loss, test_acc = evaluate(model, test_iterator, criterion, BATCH_SIZE)\n",
        "\n",
        "print(f'Test Loss: {test_loss:.3f} | Test Acc: {test_acc*100:.2f}%')"
      ],
      "execution_count": null,
      "outputs": [
        {
          "output_type": "stream",
          "text": [
            "Test Loss: 6.977 | Test Acc: 0.04%\n"
          ],
          "name": "stdout"
        }
      ]
    },
    {
      "cell_type": "markdown",
      "metadata": {
        "id": "JpWt3mnjjynt"
      },
      "source": [
        "## **QUESTION 2: For each model, describe the key design choices made. Briefly mention how each choice influences training time and generative quality.**"
      ]
    },
    {
      "cell_type": "markdown",
      "metadata": {
        "id": "b0LsrUjyq4UT"
      },
      "source": [
        "\n",
        "Markov model we went with the trigrams and there was not computational complexity in computing the probabilities and prediction. For LSTM, there was an input layer followed by embedding then lstm layer. The input was the tokenized and output can also the tokenized text offsetted by 1 place. For instance, if input is [This,is,my,favorite,movie] then output is [is,my,favorite,movie, ...\n",
        "\n",
        "1.  We took 30% training data with max 1000 words with batch size 16 to train our lstm model.\n",
        "2. If we increased the number of words then the model couldn't be loaded successfullyas there was insufficient memory\n",
        "3. If we rose size of the training data to higher percentage such as 65% or 75%, the notebook got disconnected from the server (crashed). \n",
        "4. When we decreased the batch size to 1 or 2 then model took longer time to train and when we increased it to 64 or 128 then there was memory error in which we encountered (higher complexity). We settled at 'batch size' as 16.\n",
        "5. Due to this limited training size and words, the quality of reviews formed by prediction was affected considerably. The prediction didn't give out a plausible sentence as we would have liked.\n",
        "\n"
      ]
    },
    {
      "cell_type": "markdown",
      "metadata": {
        "id": "gXbHncGklHGX"
      },
      "source": [
        "## **QUESTION 3: For each model, starting with the phrase ”My favorite movie ”, sample the next few words and create a 20 word generated review.**"
      ]
    },
    {
      "cell_type": "markdown",
      "metadata": {
        "id": "AfABMOOIUlBE"
      },
      "source": [
        "Prediction: Markov Model"
      ]
    },
    {
      "cell_type": "code",
      "metadata": {
        "id": "1lY7NLHglJS1",
        "colab": {
          "base_uri": "https://localhost:8080/",
          "height": 207
        },
        "outputId": "08be9b7f-b952-4d22-e8da-84ded72d43e5"
      },
      "source": [
        "def create_sentence(sentence,no_preds,predict_length):\n",
        "\n",
        "    predict_length -= len(sentence.split(\" \")) \n",
        "\n",
        "    for j in range(0,no_preds):\n",
        "        pred_sentence = sentence\n",
        "        bi = \" \".join(pred_sentence.split(\" \")[1:])\n",
        "\n",
        "        for i in range(0,predict_length):\n",
        "            poss_pred = np.array(mrkv.output[mrkv.bigrams==bi])\n",
        "            scores = np.array(mrkv[mrkv.bigrams==bi]['count'])\n",
        "            length = inp_cnt[inp_cnt.bigrams==bi]['count']\n",
        "            probs = scores/length.iloc[0]\n",
        "            pred = random.choice(list(enumerate(probs)))[0]\n",
        "            pred = poss_pred[pred]\n",
        "            pred_sentence = pred_sentence + \" \" + pred\n",
        "            bi = \" \".join([bi.split(\" \")[1],pred])\n",
        "\n",
        "        print(\"Generated Review \"+str(j+1)+\": \",pred_sentence+\"\\n\")\n",
        "create_sentence(\"My favorite movie\",5,20)"
      ],
      "execution_count": null,
      "outputs": [
        {
          "output_type": "stream",
          "text": [
            "Generated Review 1:  My favorite movie ( either Ben or Arthur , a magnificent job throughout , enjoying a night on Saturday (\n",
            "\n",
            "Generated Review 2:  My favorite movie of about 2 steps above Ed Wood.<br /><br />Not being a 30 second gag on a shooting\n",
            "\n",
            "Generated Review 3:  My favorite movie Dawn of the General , that incident is downright painful to watch.<br /><br />Ritter 's character ranks\n",
            "\n",
            "Generated Review 4:  My favorite movie a 45 minute Boy 's main methods of intrigue , neither very good female lead begins a\n",
            "\n",
            "Generated Review 5:  My favorite movie of Luchino Visconti is working way too standard . One pilot has a prop for the jokes\n",
            "\n"
          ],
          "name": "stdout"
        }
      ]
    },
    {
      "cell_type": "markdown",
      "metadata": {
        "id": "BqhoEGyUUqHE"
      },
      "source": [
        "Prediction: LSTM Model"
      ]
    },
    {
      "cell_type": "code",
      "metadata": {
        "id": "9yeuhS1Qfrfd",
        "colab": {
          "base_uri": "https://localhost:8080/",
          "height": 207
        },
        "outputId": "08a39c13-673d-4ce6-b440-ffecd5d26e21"
      },
      "source": [
        "for j in range(5):\n",
        "    inp =torch.tensor([[TEXT.vocab.stoi[\"my\"]],[TEXT.vocab.stoi[\"favorite\"]],[TEXT.vocab.stoi[\"movie\"]]],device=\"cuda:0\")\n",
        "    for i in range(17):\n",
        "        op = model(inp)\n",
        "        op = op.squeeze(0)\n",
        "        op = op[:,op.size()[1]-1].detach().cpu().numpy()\n",
        "        op = np.sort(op)[::-1]\n",
        "        op = op[:500] \n",
        "        new_inp = torch.tensor(np.where(op==np.random.choice(op,1)),device=\"cuda:0\")\n",
        "        inp = torch.cat((inp,new_inp))\n",
        "    \n",
        "    generated_text = \"\"\n",
        "    for val in inp:\n",
        "        generated_text = generated_text + \" \" + TEXT.vocab.itos[val]\n",
        "    print(\"Generated Review \"+str(j+1)+\": \",generated_text+\"\\n\")"
      ],
      "execution_count": null,
      "outputs": [
        {
          "output_type": "stream",
          "text": [
            "Generated Review 1:   my favorite movie nothing thought now sense least must name and black it acting n't about wo can As himself\n",
            "\n",
            "Generated Review 2:   my favorite movie cast awful seemed All day got remember come watch world never makes first everything /><br drama this\n",
            "\n",
            "Generated Review 3:   my favorite movie We To almost plays little down minutes them way He But hard make i people picture who\n",
            "\n",
            "Generated Review 4:   my favorite movie ( almost people old children always could money women who played & sort star through may father\n",
            "\n",
            "Generated Review 5:   my favorite movie well father felt played She end plot probably around pretty nothing You film together live since man\n",
            "\n"
          ],
          "name": "stdout"
        }
      ]
    }
  ]
}